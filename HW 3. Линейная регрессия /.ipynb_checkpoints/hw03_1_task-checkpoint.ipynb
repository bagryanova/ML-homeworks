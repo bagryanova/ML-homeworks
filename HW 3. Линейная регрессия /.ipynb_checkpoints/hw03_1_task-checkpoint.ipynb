{
 "cells": [
  {
   "cell_type": "markdown",
   "metadata": {},
   "source": [
    "# Линейная регрессия\n",
    "__Суммарное количество баллов: 10__\n",
    "\n",
    "__Решение отправлять на `ml.course.practice@gmail.com`__\n",
    "\n",
    "__Тема письма: `[ML][MS][HW03] <ФИ>`, где вместо `<ФИ>` указаны фамилия и имя__"
   ]
  },
  {
   "cell_type": "code",
   "execution_count": 1,
   "metadata": {},
   "outputs": [],
   "source": [
    "from sklearn.datasets import make_blobs, make_moons\n",
    "from sklearn.model_selection import train_test_split\n",
    "import numpy as np\n",
    "import random\n",
    "import matplotlib.pyplot as plt\n",
    "import matplotlib\n",
    "import copy"
   ]
  },
  {
   "cell_type": "code",
   "execution_count": 2,
   "metadata": {},
   "outputs": [],
   "source": [
    "def read_data(path=\"boston.csv\"):\n",
    "    dataframe = np.genfromtxt(path, delimiter=\",\", skip_header=15)\n",
    "    np.random.seed(42)\n",
    "    np.random.shuffle(dataframe)\n",
    "    X = dataframe[:, :-1]\n",
    "    y = dataframe[:, -1]\n",
    "    return X, y"
   ]
  },
  {
   "cell_type": "code",
   "execution_count": 3,
   "metadata": {},
   "outputs": [],
   "source": [
    "def generate_synthetic(size:int, dim=6, noise=0.1):\n",
    "    X = np.random.randn(size, dim)\n",
    "    w = np.random.randn(dim + 1)\n",
    "    noise = noise * np.random.randn(size)\n",
    "    y = X.dot(w[1:]) + w[0] + noise\n",
    "    return X, y"
   ]
  },
  {
   "cell_type": "markdown",
   "metadata": {},
   "source": [
    "### Задание 1 (1 балл)\n",
    "Для начала нужно понять, какую метрику для ошибки будем использовать. В нашем случае нам подойдет стандартная метрика MSE. Также чтобы оценить качество модели нам понадобится метрика $R^2$. Реализуйте обе эти метрики."
   ]
  },
  {
   "cell_type": "code",
   "execution_count": 4,
   "metadata": {},
   "outputs": [],
   "source": [
    "def mse(y_true:np.ndarray, y_predicted:np.ndarray):\n",
    "    res = 0.0\n",
    "    for i in range(len(y_true)):\n",
    "        res += (y_true[i] - y_predicted[i]) ** 2\n",
    "    res /= len(y_true)\n",
    "    return res\n",
    "\n",
    "def r2(y_true:np.ndarray, y_predicted:np.ndarray):\n",
    "    y_mean = np.mean(y_true)\n",
    "    u = mse(y_true, y_predicted)\n",
    "    v = 0.0\n",
    "    for i in range(len(y_true)):\n",
    "        v += (y_true[i] - y_mean) ** 2\n",
    "    v /= len(y_true)\n",
    "    return 1 - u / v   "
   ]
  },
  {
   "cell_type": "markdown",
   "metadata": {},
   "source": [
    "### Задание 2 (3 балла)\n",
    "Теперь реализуем линейную регрессию при помощи явного решения задачи минимизации. \n",
    "\n",
    "#### Методы\n",
    "`fit(X, y)` - решает задачу минимизации $\\arg\\min_{w, b}\\sum ((w\\cdot x + b) - y)^2$. \n",
    "\n",
    "`predict(X)` - строит предсказание `y` для объектов из `X`."
   ]
  },
  {
   "cell_type": "code",
   "execution_count": 5,
   "metadata": {},
   "outputs": [],
   "source": [
    "class NormalLR:\n",
    "    def __init__(self):\n",
    "        self.min = None\n",
    "    \n",
    "    def normalization(self, X:np.ndarray):\n",
    "        if self.min == None:\n",
    "            self.min = [0] * len(X[0])\n",
    "            self.max = [0] * len(X[0])\n",
    "            for j in range(len(X[0])):\n",
    "                self.min[j] = min(X[:, j])\n",
    "                self.max[j] = max(X[:, j])\n",
    "        for i in range(len(X)):\n",
    "            for j in range(len(X[0])):\n",
    "                X[i][j] = (X[i][j] - self.min[j]) / (self.max[j] - self.min[j])\n",
    "        return X\n",
    "          \n",
    "    def fit(self, X:np.ndarray, y:np.ndarray):\n",
    "        X = self.normalization(X)\n",
    "        ones = np.ones((len(X), 1))\n",
    "        X_new = np.hstack((X, ones))\n",
    "        XT = np.transpose(X_new)\n",
    "        cur = np.dot(XT, X_new)\n",
    "        cur = np.linalg.inv(cur)\n",
    "        cur = np.dot(cur, XT)\n",
    "        cur = np.dot(cur, y)\n",
    "        self.w = cur\n",
    "    \n",
    "    def predict(self, X:np.ndarray) -> np.ndarray:\n",
    "        X = self.normalization(X)\n",
    "        ones = np.ones((len(X), 1))\n",
    "        X_new = np.hstack((X, ones))\n",
    "        y = np.dot(X_new, self.w)\n",
    "        return y"
   ]
  },
  {
   "cell_type": "code",
   "execution_count": 6,
   "metadata": {},
   "outputs": [],
   "source": [
    "X, y = generate_synthetic(1024)\n",
    "X_train, X_test, y_train, y_test = train_test_split(X, y, train_size=0.8)"
   ]
  },
  {
   "cell_type": "code",
   "execution_count": 7,
   "metadata": {},
   "outputs": [
    {
     "name": "stdout",
     "output_type": "stream",
     "text": [
      "MSE: 0.01135189937582192, R2: 0.9981822226702511\n"
     ]
    }
   ],
   "source": [
    "regr = NormalLR()\n",
    "regr.fit(X_train, y_train)\n",
    "y_pred = regr.predict(X_test)\n",
    "print(f\"MSE: {mse(y_test, y_pred)}, R2: {r2(y_test, y_pred)}\")"
   ]
  },
  {
   "cell_type": "markdown",
   "metadata": {},
   "source": [
    "### Задание 3 (2 балла)\n",
    "Теперь реализуем линейную регрессию с использованием градиентного спуска с larning rate `alpha` в течении `iterations` итераций. В задании необходимо использовать регуляризацию Лассо с коэффициентом `l`.\n",
    "\n",
    "#### Методы\n",
    "`fit(X, y)` - приближает решение задачи минимизации $\\arg\\min_{w, b}\\sum ((w\\cdot x + b) - y)^2$ при помощи градиентного спуска. \n",
    "\n",
    "\n",
    "`predict(X)` - строит предсказание `y` для объектов из `X`."
   ]
  },
  {
   "cell_type": "code",
   "execution_count": 5,
   "metadata": {},
   "outputs": [],
   "source": [
    "class GradientLR:\n",
    "    def __init__(self, alpha:float, iterations=10000, l=0.):\n",
    "        self.alpha = alpha\n",
    "        self.iterations = iterations\n",
    "        self.l = l\n",
    "        self.min = None\n",
    "       \n",
    "    def normalization(self, X:np.ndarray):\n",
    "        if self.min == None:\n",
    "            self.min = [0] * len(X[0])\n",
    "            self.max = [0] * len(X[0])\n",
    "            for j in range(len(X[0])):\n",
    "                self.min[j] = min(X[:, j])\n",
    "                self.max[j] = max(X[:, j])\n",
    "        for i in range(len(X)):\n",
    "            for j in range(len(X[0])):\n",
    "                X[i][j] = (X[i][j] - self.min[j]) / (self.max[j] - self.min[j])\n",
    "        return X\n",
    "    \n",
    "    def fit(self, X:np.ndarray, y:np.ndarray):\n",
    "        #print(X)\n",
    "        # X = self.normalization(X)\n",
    "        ones = np.ones((len(X), 1))\n",
    "        X = np.hstack((X, ones))\n",
    "        w = np.random.normal(size=(len(X[0])))\n",
    "        for i in range(self.iterations):\n",
    "            e = y - np.dot(X, w)\n",
    "            grad = -np.dot(np.transpose(X), e)\n",
    "            grad = grad + self.l * np.sign(w)\n",
    "            grad = grad\n",
    "            w = w - self.alpha * grad\n",
    "        self.w = w\n",
    "\n",
    "\n",
    "    def predict(self, X:np.ndarray):\n",
    "        X = self.normalization(X)\n",
    "        ones = np.ones((len(X), 1))\n",
    "        X_new = np.hstack((X, ones))\n",
    "        y = np.dot(X_new, self.w)\n",
    "        return y"
   ]
  },
  {
   "cell_type": "code",
   "execution_count": 9,
   "metadata": {},
   "outputs": [],
   "source": [
    "from sklearn.linear_model import Lasso, Ridge\n",
    "\n",
    "def build_plot(X_train, y_train, X_test, y_test):\n",
    "    #xs = np.arange(0.0, 0.002, 0.00002)\n",
    "    xs = np.linspace(0, 20, 20) # np.arange(0, 20, 0.1)\n",
    "    errors = []\n",
    "    for x in xs:\n",
    "        regr = Ridge(alpha=x, ) # GradientLR(0.1, iterations=1000, l=x)\n",
    "        regr.fit(X_train, y_train)\n",
    "        errors.append(mse(y_test, regr.predict(X_test)))\n",
    "    plt.figure(figsize=(9, 4))\n",
    "    #plt.xlim(powers[0], powers[-1])\n",
    "    plt.grid()\n",
    "    plt.plot(xs, errors)\n",
    "    plt.yscale('log')\n",
    "    plt.show()"
   ]
  },
  {
   "cell_type": "code",
   "execution_count": 6,
   "metadata": {},
   "outputs": [],
   "source": [
    "X, y = generate_synthetic(1024)\n",
    "X, X_val, y, y_val = train_test_split(X, y, train_size=0.9, shuffle=True)\n",
    "X_train, X_test, y_train, y_test = train_test_split(X, y, train_size=0.8, shuffle=True)"
   ]
  },
  {
   "cell_type": "code",
   "execution_count": 11,
   "metadata": {},
   "outputs": [
    {
     "data": {
      "image/png": "[encoded data removed]",
      "text/plain": [
       "<Figure size 648x288 with 1 Axes>"
      ]
     },
     "metadata": {
      "needs_background": "light"
     },
     "output_type": "display_data"
    }
   ],
   "source": [
    "build_plot(X_train, y_train, X_val, y_val)"
   ]
  },
  {
   "cell_type": "code",
   "execution_count": 7,
   "metadata": {},
   "outputs": [
    {
     "name": "stdout",
     "output_type": "stream",
     "text": [
      "MSE: nan, R2: nan\n"
     ]
    }
   ],
   "source": [
    "#эта штука выдает какую-то хрень, если запускать подряд. но если перезапустить генерацию, то все будет ок\n",
    "regr = GradientLR(0.1, iterations=1000)\n",
    "regr.fit(X_train, y_train)\n",
    "y_pred = regr.predict(X_test)\n",
    "print(f\"MSE: {mse(y_test, y_pred)}, R2: {r2(y_test, y_pred)}\")"
   ]
  },
  {
   "cell_type": "markdown",
   "metadata": {},
   "source": [
    "### Задание 4 (2 балла)\n",
    "Протесируйте оба метода на данных `boston.csv`, для градиентного спуска постройте график зависимости ошибки от коэффициента регуляризации. "
   ]
  },
  {
   "cell_type": "code",
   "execution_count": 13,
   "metadata": {},
   "outputs": [],
   "source": [
    "X, y = read_data()\n",
    "X_train, X_val, y_train, y_val = train_test_split(X, y, train_size=0.8, shuffle=False)"
   ]
  },
  {
   "cell_type": "code",
   "execution_count": 14,
   "metadata": {},
   "outputs": [
    {
     "name": "stdout",
     "output_type": "stream",
     "text": [
      "MSE: 22266311.08083618, R2: 0.6872797475661152\n"
     ]
    }
   ],
   "source": [
    "regr = NormalLR()\n",
    "regr.fit(X_train, y_train)\n",
    "y_pred = regr.predict(X_val)\n",
    "print(f\"MSE: {mse(y_val, y_pred)}, R2: {r2(y_val, y_pred)}\")"
   ]
  },
  {
   "cell_type": "code",
   "execution_count": 15,
   "metadata": {},
   "outputs": [
    {
     "data": {
      "image/png": "[encoded data removed]",
      "text/plain": [
       "<Figure size 648x288 with 1 Axes>"
      ]
     },
     "metadata": {
      "needs_background": "light"
     },
     "output_type": "display_data"
    }
   ],
   "source": [
    "build_plot(X_train, y_train, X_val, y_val)"
   ]
  },
  {
   "cell_type": "code",
   "execution_count": 16,
   "metadata": {},
   "outputs": [
    {
     "name": "stdout",
     "output_type": "stream",
     "text": [
      "MSE: nan, R2: nan\n"
     ]
    }
   ],
   "source": [
    "regr = GradientLR(0.1, iterations=1000)\n",
    "regr.fit(X_train, y_train)\n",
    "y_pred = regr.predict(X_val)\n",
    "print(f\"MSE: {mse(y_val, y_pred)}, R2: {r2(y_val, y_pred)}\")"
   ]
  },
  {
   "cell_type": "code",
   "execution_count": 17,
   "metadata": {},
   "outputs": [
    {
     "data": {
      "image/png": "[encoded data removed]",
      "text/plain": [
       "<Figure size 648x288 with 1 Axes>"
      ]
     },
     "metadata": {
      "needs_background": "light"
     },
     "output_type": "display_data"
    }
   ],
   "source": [
    "from sklearn.linear_model import Ridge\n",
    "from sklearn.metrics import mean_squared_error\n",
    "from sklearn.preprocessing import OneHotEncoder\n",
    "from sklearn.compose import ColumnTransformer\n",
    "from sklearn.pipeline import Pipeline\n",
    "from sklearn.preprocessing import StandardScaler\n",
    "\n",
    "xs = np.arange(1, 500000, 5000)\n",
    "errors = []\n",
    "for x in xs:\n",
    "    X, y = read_data() # generate_synthetic(1024)\n",
    "    X_train, X_test, y_train, y_test = train_test_split(X, y, train_size=0.7)\n",
    "\n",
    "    scaler = StandardScaler()\n",
    "    scaler.fit(X_train)\n",
    "\n",
    "    X_train = scaler.transform(X_train)\n",
    "    X_test = scaler.transform(X_test)\n",
    "\n",
    "    pipeline = Pipeline(steps=[('model', GradientLR(0.00001, iterations=10000, l=x))])\n",
    "    # pipeline = Pipeline(steps=[('model', Lasso(x))])\n",
    "\n",
    "    model = pipeline.fit(X_train, y_train)\n",
    "\n",
    "    y_pred_test = model.predict(X_test)\n",
    "    y_pred_train = model.predict(X_train)\n",
    "\n",
    "    # print(\"Test RMSE = %.4f\" % mean_squared_error(y_test, y_pred_test, squared=False))\n",
    "    # print(\"Train RMSE = %.4f\" % mean_squared_error(y_train, y_pred_train, squared=False))\n",
    "    errors.append(mean_squared_error(y_test, y_pred_test, squared=False))\n",
    "        \n",
    "plt.figure(figsize=(9, 4))\n",
    "#plt.xlim(powers[0], powers[-1])\n",
    "plt.grid()\n",
    "plt.plot(xs, errors)\n",
    "# plt.yscale('log')\n",
    "plt.show()"
   ]
  },
  {
   "cell_type": "markdown",
   "metadata": {},
   "source": [
    "### Задание 5 (2 балла)\n",
    "Проинтерпритируйте полученные результаты. Опишите влияние каждого признака на результат предсказания."
   ]
  },
  {
   "cell_type": "code",
   "execution_count": null,
   "metadata": {},
   "outputs": [],
   "source": []
  }
 ],
 "metadata": {
  "kernelspec": {
   "display_name": "Python 3",
   "language": "python",
   "name": "python3"
  },
  "language_info": {
   "codemirror_mode": {
    "name": "ipython",
    "version": 3
   },
   "file_extension": ".py",
   "mimetype": "text/x-python",
   "name": "python",
   "nbconvert_exporter": "python",
   "pygments_lexer": "ipython3",
   "version": "3.8.8"
  }
 },
 "nbformat": 4,
 "nbformat_minor": 2
}
