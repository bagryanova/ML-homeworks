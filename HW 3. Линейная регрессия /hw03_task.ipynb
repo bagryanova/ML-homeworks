{
 "cells": [
  {
   "cell_type": "markdown",
   "metadata": {},
   "source": [
    "# Линейная регрессия\n",
    "__Суммарное количество баллов: 10__\n",
    "\n",
    "__Решение отправлять на `ml.course.practice@gmail.com`__\n",
    "\n",
    "__Тема письма: `[ML][MS][HW03] <ФИ>`, где вместо `<ФИ>` указаны фамилия и имя__"
   ]
  },
  {
   "cell_type": "code",
   "execution_count": 2,
   "metadata": {},
   "outputs": [],
   "source": [
    "from sklearn.datasets import make_blobs, make_moons\n",
    "from sklearn.model_selection import train_test_split\n",
    "import numpy as np\n",
    "import random\n",
    "import matplotlib.pyplot as plt\n",
    "import matplotlib\n",
    "import copy"
   ]
  },
  {
   "cell_type": "code",
   "execution_count": 3,
   "metadata": {},
   "outputs": [],
   "source": [
    "def read_data(path=\"boston.csv\"):\n",
    "    dataframe = np.genfromtxt(path, delimiter=\",\", skip_header=15)\n",
    "    np.random.seed(42)\n",
    "    np.random.shuffle(dataframe)\n",
    "    X = dataframe[:, :-1]\n",
    "    y = dataframe[:, -1]\n",
    "    return X, y"
   ]
  },
  {
   "cell_type": "code",
   "execution_count": 4,
   "metadata": {},
   "outputs": [],
   "source": [
    "def generate_synthetic(size:int, dim=6, noise=0.1):\n",
    "    X = np.random.randn(size, dim)\n",
    "    w = np.random.randn(dim + 1)\n",
    "    noise = noise * np.random.randn(size)\n",
    "    y = X.dot(w[1:]) + w[0] + noise\n",
    "    return X, y"
   ]
  },
  {
   "cell_type": "markdown",
   "metadata": {},
   "source": [
    "### Задание 1 (1 балл)\n",
    "Для начала нужно понять, какую метрику для ошибки будем использовать. В нашем случае нам подойдет стандартная метрика MSE. Также чтобы оценить качество модели нам понадобится метрика $R^2$. Реализуйте обе эти метрики."
   ]
  },
  {
   "cell_type": "code",
   "execution_count": 5,
   "metadata": {},
   "outputs": [],
   "source": [
    "def mse(y_true:np.ndarray, y_predicted:np.ndarray):\n",
    "    res = 0.0\n",
    "    for i in range(len(y_true)):\n",
    "        res += (y_true[i] - y_predicted[i]) ** 2\n",
    "    res /= len(y_true)\n",
    "    return res\n",
    "\n",
    "def r2(y_true:np.ndarray, y_predicted:np.ndarray):\n",
    "    y_mean = np.mean(y_true)\n",
    "    u = mse(y_true, y_predicted)\n",
    "    v = 0.0\n",
    "    for i in range(len(y_true)):\n",
    "        v += (y_true[i] - y_mean) ** 2\n",
    "    v /= len(y_true)\n",
    "    return 1 - u / v   "
   ]
  },
  {
   "cell_type": "markdown",
   "metadata": {},
   "source": [
    "### Задание 2 (3 балла)\n",
    "Теперь реализуем линейную регрессию при помощи явного решения задачи минимизации. \n",
    "\n",
    "#### Методы\n",
    "`fit(X, y)` - решает задачу минимизации $\\arg\\min_{w, b}\\sum ((w\\cdot x + b) - y)^2$. \n",
    "\n",
    "`predict(X)` - строит предсказание `y` для объектов из `X`."
   ]
  },
  {
   "cell_type": "code",
   "execution_count": 40,
   "metadata": {},
   "outputs": [],
   "source": [
    "class NormalLR:\n",
    "    def __init__(self):\n",
    "        self.min = None\n",
    "        \n",
    "    def normalization(self, X:np.ndarray):\n",
    "        if self.min == None:\n",
    "            self.min = [0] * len(X[0])\n",
    "            self.max = [0] * len(X[0])\n",
    "            for j in range(len(X[0])):\n",
    "                self.min[j] = min(X[:, j])\n",
    "                self.max[j] = max(X[:, j])\n",
    "        for i in range(len(X)):\n",
    "            for j in range(len(X[0])):\n",
    "                X[i][j] = (X[i][j] - self.min[j]) / (self.max[j] - self.min[j])\n",
    "        return X\n",
    "         \n",
    "    def fit(self, X:np.ndarray, y:np.ndarray):\n",
    "        X = self.normalization(X)\n",
    "        ones = np.ones((len(X), 1))\n",
    "        X_new = np.hstack((X, ones))\n",
    "        XT = np.transpose(X_new)\n",
    "        cur = np.dot(XT, X_new)\n",
    "        cur = np.linalg.inv(cur)\n",
    "        cur = np.dot(cur, XT)\n",
    "        cur = np.dot(cur, y)\n",
    "        self.w = cur\n",
    "    \n",
    "    def predict(self, X:np.ndarray) -> np.ndarray:\n",
    "        X = self.normalization(X)\n",
    "        ones = np.ones((len(X), 1))\n",
    "        X_new = np.hstack((X, ones))\n",
    "        y = np.dot(X_new, self.w)\n",
    "        return y"
   ]
  },
  {
   "cell_type": "code",
   "execution_count": 41,
   "metadata": {},
   "outputs": [],
   "source": [
    "X, y = generate_synthetic(1024)\n",
    "X_train, X_test, y_train, y_test = train_test_split(X, y, train_size=0.8)"
   ]
  },
  {
   "cell_type": "code",
   "execution_count": 42,
   "metadata": {},
   "outputs": [
    {
     "name": "stdout",
     "output_type": "stream",
     "text": [
      "MSE: 0.009405288384307472, R2: 0.996427562749822\n"
     ]
    }
   ],
   "source": [
    "regr = NormalLR()\n",
    "regr.fit(X_train, y_train)\n",
    "y_pred = regr.predict(X_test)\n",
    "print(f\"MSE: {mse(y_test, y_pred)}, R2: {r2(y_test, y_pred)}\")"
   ]
  },
  {
   "cell_type": "markdown",
   "metadata": {},
   "source": [
    "### Задание 3 (2 балла)\n",
    "Теперь реализуем линейную регрессию с использованием градиентного спуска с larning rate `alpha` в течении `iterations` итераций. В задании необходимо использовать регуляризацию Лассо с коэффициентом `l`.\n",
    "\n",
    "#### Методы\n",
    "`fit(X, y)` - приближает решение задачи минимизации $\\arg\\min_{w, b}\\sum ((w\\cdot x + b) - y)^2$ при помощи градиентного спуска. \n",
    "\n",
    "\n",
    "`predict(X)` - строит предсказание `y` для объектов из `X`."
   ]
  },
  {
   "cell_type": "code",
   "execution_count": 12,
   "metadata": {},
   "outputs": [],
   "source": [
    "class GradientLR:\n",
    "    def __init__(self, alpha:float, iterations=10000, l=0.):\n",
    "        self.alpha = alpha\n",
    "        self.iterations = iterations\n",
    "        self.l = l\n",
    "    \n",
    "    \n",
    "    def fit(self, X_:np.ndarray, y:np.ndarray):\n",
    "        ones = np.ones((X_.shape[0], 1))\n",
    "        X = np.hstack((X_, ones))\n",
    "        w = np.random.normal(size=(X_.shape[1] + 1))\n",
    "        \n",
    "        self.mean = np.mean(X, axis=0)\n",
    "        self.std = np.std(X, axis=0)\n",
    "        self.mean[self.mean.shape[0] - 1] = 0\n",
    "        self.std[self.std < 0.001] = 1\n",
    "        X -= self.mean\n",
    "        X /= self.std\n",
    "        \n",
    "        for i in range(self.iterations):\n",
    "            e = y - np.dot(X, w)\n",
    "            grad = -np.dot(np.transpose(X), e)\n",
    "            grad = grad + self.l * np.sign(w)\n",
    "            grad = grad\n",
    "            w = w - self.alpha * grad\n",
    "        self.w = w\n",
    "\n",
    "\n",
    "    def predict(self, X:np.ndarray):\n",
    "        ones = np.ones((len(X), 1))\n",
    "        X_new = np.hstack((X, ones))\n",
    "        \n",
    "        X_new -= self.mean\n",
    "        X_new /= self.std\n",
    "        \n",
    "        y = np.dot(X_new, self.w)\n",
    "        return y"
   ]
  },
  {
   "cell_type": "code",
   "execution_count": 13,
   "metadata": {},
   "outputs": [],
   "source": [
    "from sklearn.linear_model import Lasso, Ridge\n",
    "\n",
    "def build_plot(X_train, y_train, X_test, y_test):\n",
    "    xs = np.linspace(0, 20, 20) # np.arange(0, 20, 0.1)\n",
    "    errors = []\n",
    "    for x in xs:\n",
    "        regr = GradientLR(0.00001, iterations=1000, l=x)\n",
    "        regr.fit(X_train, y_train)\n",
    "        errors.append(mse(y_test, regr.predict(X_test)))\n",
    "    plt.figure(figsize=(9, 4))\n",
    "    plt.grid()\n",
    "    plt.plot(xs, errors)\n",
    "    plt.yscale('log')\n",
    "    plt.show()"
   ]
  },
  {
   "cell_type": "code",
   "execution_count": 43,
   "metadata": {},
   "outputs": [],
   "source": [
    "X, y = generate_synthetic(1024)\n",
    "X, X_val, y, y_val = train_test_split(X, y, train_size=0.9, shuffle=True)\n",
    "X_train, X_test, y_train, y_test = train_test_split(X, y, train_size=0.8, shuffle=True)"
   ]
  },
  {
   "cell_type": "code",
   "execution_count": 44,
   "metadata": {},
   "outputs": [
    {
     "data": {
      "image/png": "[encoded data removed]",
      "text/plain": [
       "<Figure size 648x288 with 1 Axes>"
      ]
     },
     "metadata": {
      "needs_background": "light"
     },
     "output_type": "display_data"
    }
   ],
   "source": [
    "build_plot(X_train, y_train, X_val, y_val)"
   ]
  },
  {
   "cell_type": "code",
   "execution_count": 45,
   "metadata": {},
   "outputs": [
    {
     "name": "stdout",
     "output_type": "stream",
     "text": [
      "MSE: 0.011305853163911077, R2: 0.9986494346070894\n"
     ]
    }
   ],
   "source": [
    "regr = GradientLR(0.001, iterations=1000)\n",
    "regr.fit(X_train, y_train)\n",
    "y_pred = regr.predict(X_test)\n",
    "print(f\"MSE: {mse(y_test, y_pred)}, R2: {r2(y_test, y_pred)}\")"
   ]
  },
  {
   "cell_type": "markdown",
   "metadata": {},
   "source": [
    "### Задание 4 (2 балла)\n",
    "Протесируйте оба метода на данных `boston.csv`, для градиентного спуска постройте график зависимости ошибки от коэффициента регуляризации. "
   ]
  },
  {
   "cell_type": "code",
   "execution_count": 46,
   "metadata": {},
   "outputs": [],
   "source": [
    "X, y = read_data()\n",
    "X_train, X_val, y_train, y_val = train_test_split(X, y, train_size=0.7, shuffle=False)"
   ]
  },
  {
   "cell_type": "code",
   "execution_count": 47,
   "metadata": {},
   "outputs": [
    {
     "name": "stdout",
     "output_type": "stream",
     "text": [
      "MSE: 22337011.563625038, R2: 0.7268452281461374\n"
     ]
    }
   ],
   "source": [
    "regr = NormalLR()\n",
    "regr.fit(X_train, y_train)\n",
    "y_pred = regr.predict(X_val)\n",
    "print(f\"MSE: {mse(y_val, y_pred)}, R2: {r2(y_val, y_pred)}\")"
   ]
  },
  {
   "cell_type": "code",
   "execution_count": 19,
   "metadata": {},
   "outputs": [
    {
     "data": {
      "image/png": "[encoded data removed]",
      "text/plain": [
       "<Figure size 648x288 with 1 Axes>"
      ]
     },
     "metadata": {
      "needs_background": "light"
     },
     "output_type": "display_data"
    }
   ],
   "source": [
    "from sklearn.linear_model import Ridge\n",
    "from sklearn.metrics import mean_squared_error\n",
    "from sklearn.preprocessing import OneHotEncoder\n",
    "from sklearn.compose import ColumnTransformer\n",
    "from sklearn.pipeline import Pipeline\n",
    "from sklearn.preprocessing import StandardScaler\n",
    "\n",
    "xs = np.linspace(1, 15000, 100)\n",
    "errors = []\n",
    "\n",
    "X, y = read_data()\n",
    "X_train, X_test, y_train, y_test = train_test_split(X, y, train_size=0.7)\n",
    "\n",
    "for x in xs:\n",
    "    model = GradientLR(0.00001, iterations=10000, l=x)\n",
    "\n",
    "    model.fit(X_train, y_train)\n",
    "\n",
    "    y_pred_test = model.predict(X_test)\n",
    "\n",
    "    errors.append(mean_squared_error(y_test, y_pred_test, squared=False))\n",
    "        \n",
    "plt.figure(figsize=(9, 4))\n",
    "plt.grid()\n",
    "plt.plot(xs, errors)\n",
    "plt.show()"
   ]
  },
  {
   "cell_type": "code",
   "execution_count": 36,
   "metadata": {},
   "outputs": [
    {
     "name": "stdout",
     "output_type": "stream",
     "text": [
      "MSE: 22063981.671241492, R2: 0.7301840551754775\n",
      "feature 13 = -4098.1625156262135\n",
      "feature 8 = -3335.7068205723103\n",
      "feature 9 = 2711.160377646901\n",
      "feature 6 = 2472.588143855628\n",
      "feature 10 = -2153.6234873572753\n",
      "feature 5 = -1999.8635583151802\n",
      "feature 11 = -1839.8403352497842\n",
      "feature 2 = 1388.7202523427043\n",
      "feature 1 = -1042.1437022364003\n",
      "feature 12 = 630.7793885936196\n",
      "feature 4 = 589.3809797576602\n",
      "feature 7 = 311.17769212216274\n",
      "feature 3 = -151.81581179229852\n"
     ]
    }
   ],
   "source": [
    "X, y = read_data()\n",
    "X_train, X_val, y_train, y_val = train_test_split(X, y, train_size=0.7, shuffle=False)\n",
    "\n",
    "regr = GradientLR(0.00001, iterations=10000, l=6500)\n",
    "regr.fit(X_train, y_train)\n",
    "y_pred = regr.predict(X_val)\n",
    "print(f\"MSE: {mse(y_val, y_pred)}, R2: {r2(y_val, y_pred)}\")\n",
    "\n",
    "res = []\n",
    "for i in range(len(regr.w) - 1):\n",
    "    res.append((regr.w[i], i))\n",
    "res = sorted(res, key=lambda x: -abs(x[0]))\n",
    "for i in range(len(regr.w) - 1):\n",
    "    print(f\"feature {res[i][1] + 1} = {res[i][0]}\")"
   ]
  },
  {
   "cell_type": "markdown",
   "metadata": {},
   "source": [
    "### Задание 5 (2 балла)\n",
    "Проинтерпритируйте полученные результаты. Опишите влияние каждого признака на результат предсказания."
   ]
  },
  {
   "cell_type": "markdown",
   "metadata": {},
   "source": [
    "У меня получилось, что самый важный признак для средней стоимости домов в городе (надеюсь я правильно проинтерпетировала табличку, боже) -- 13, то есть процент низкого статуса населения, и он сильно портит стоимость. \n",
    "\n",
    "Первый по положительной значимости и третий в общем зачете -- признак 9, то есть доступность магистралей. \n",
    "\n",
    "Кроме этого, достаточно важны еще признаки 8 и 6 -- взвешенные расстояние до бостонских центров занятости и среднее количество комнат в квартире. Первый портит ситуацию, а второй наоборот улучшает. \n",
    "\n",
    "Самые невлияющие показатели -- 7 и 3 -- доля квартир, занимаемых владельцами, построенных до 1940 года (действительно, признак очень странный) и доля акров не связанных с розничной торговлей (что бы это ни значило)."
   ]
  }
 ],
 "metadata": {
  "kernelspec": {
   "display_name": "Python 3",
   "language": "python",
   "name": "python3"
  },
  "language_info": {
   "codemirror_mode": {
    "name": "ipython",
    "version": 3
   },
   "file_extension": ".py",
   "mimetype": "text/x-python",
   "name": "python",
   "nbconvert_exporter": "python",
   "pygments_lexer": "ipython3",
   "version": "3.8.8"
  }
 },
 "nbformat": 4,
 "nbformat_minor": 2
}
